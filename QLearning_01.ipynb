{
  "nbformat": 4,
  "nbformat_minor": 0,
  "metadata": {
    "colab": {
      "name": "Part01_18020542.ipynb",
      "provenance": [],
      "collapsed_sections": []
    },
    "kernelspec": {
      "name": "python3",
      "display_name": "Python 3"
    },
    "language_info": {
      "name": "python"
    }
  },
  "cells": [
    {
      "cell_type": "code",
      "metadata": {
        "id": "xgkrG8FUoH4_"
      },
      "source": [
        "import numpy as np\n",
        "import pylab as plt\n",
        "import networkx as nx #python package to generate graphs\n",
        "\n",
        "# defining the edges between states \n",
        "points_list = [(0,1), (1,5), (5,6), (5,4), (1,2), (2,3), (2,7)]\n",
        "\n",
        "#defining the goal\n",
        "goal = 7"
      ],
      "execution_count": null,
      "outputs": []
    },
    {
      "cell_type": "code",
      "metadata": {
        "id": "sffRMdKsoWIv",
        "colab": {
          "base_uri": "https://localhost:8080/"
        },
        "outputId": "2e75f059-feee-4851-b7d4-de78f8fc9ca1"
      },
      "source": [
        "#plotting the maze \n",
        "G=nx.Graph()\n",
        "G.add_edges_from(points_list)\n",
        "pos = nx.spring_layout(G)\n",
        "nx.draw_networkx_nodes(G,pos)\n",
        "nx.draw_networkx_edges(G,pos)\n",
        "nx.draw_networkx_labels(G,pos)\n",
        "plt.show()"
      ],
      "execution_count": null,
      "outputs": [
        {
          "output_type": "display_data",
          "data": {
            "image/png": "[encoded data removed]",
            "text/plain": [
              "<Figure size 432x288 with 1 Axes>"
            ]
          },
          "metadata": {}
        }
      ]
    },
    {
      "cell_type": "markdown",
      "metadata": {
        "id": "iTBXKjGMmGSN"
      },
      "source": [
        "**R** **Table**"
      ]
    },
    {
      "cell_type": "code",
      "metadata": {
        "id": "wpWRWVAhn7TD"
      },
      "source": [
        "# matrix size is defined as the number of states in the maze \n",
        "MATRIX_SIZE = 8"
      ],
      "execution_count": null,
      "outputs": []
    },
    {
      "cell_type": "code",
      "metadata": {
        "id": "AHatcnPkoal5"
      },
      "source": [
        "# R table created and initiates with -1s. \n",
        "R = np.matrix(np.ones(shape=(MATRIX_SIZE, MATRIX_SIZE)))\n",
        "R *= -1"
      ],
      "execution_count": null,
      "outputs": []
    },
    {
      "cell_type": "code",
      "metadata": {
        "id": "IEs2FP92ocYN",
        "colab": {
          "base_uri": "https://localhost:8080/"
        },
        "outputId": "32899c01-f5ff-4484-86f7-6696e590d4d3"
      },
      "source": [
        "#defining reards based on points list\n",
        "for point in points_list:\n",
        "    if point[1] == goal: \n",
        "        R[point] = 100\n",
        "    else:\n",
        "        R[point] = 0 \n",
        "\n",
        "    if point[0] == goal:\n",
        "        R[point[::-1]] = 100\n",
        "    else:\n",
        "        R[point[::-1]]= 0\n",
        "\n",
        "R[goal,goal]= 100 \n",
        "\n",
        "R"
      ],
      "execution_count": null,
      "outputs": [
        {
          "output_type": "execute_result",
          "data": {
            "text/plain": [
              "matrix([[ -1.,   0.,  -1.,  -1.,  -1.,  -1.,  -1.,  -1.],\n",
              "        [  0.,  -1.,   0.,  -1.,  -1.,   0.,  -1.,  -1.],\n",
              "        [ -1.,   0.,  -1.,   0.,  -1.,  -1.,  -1., 100.],\n",
              "        [ -1.,  -1.,   0.,  -1.,  -1.,  -1.,  -1.,  -1.],\n",
              "        [ -1.,  -1.,  -1.,  -1.,  -1.,   0.,  -1.,  -1.],\n",
              "        [ -1.,   0.,  -1.,  -1.,   0.,  -1.,   0.,  -1.],\n",
              "        [ -1.,  -1.,  -1.,  -1.,  -1.,   0.,  -1.,  -1.],\n",
              "        [ -1.,  -1.,   0.,  -1.,  -1.,  -1.,  -1., 100.]])"
            ]
          },
          "metadata": {},
          "execution_count": 98
        }
      ]
    },
    {
      "cell_type": "markdown",
      "metadata": {
        "id": "mR0wmBtkwQGV"
      },
      "source": [
        "**Q** **Table**"
      ]
    },
    {
      "cell_type": "code",
      "metadata": {
        "id": "TM3Dpk1juX6S"
      },
      "source": [
        "#initializing the Q table\n",
        "Q = np.matrix(np.zeros([MATRIX_SIZE,MATRIX_SIZE])) \n",
        "\n",
        "# learning parameter\n",
        "gamma = 0.8\n",
        "\n",
        "initial_state = 1 "
      ],
      "execution_count": null,
      "outputs": []
    },
    {
      "cell_type": "code",
      "metadata": {
        "id": "tWwDWJ8Quu5z"
      },
      "source": [
        "#function to select available actions for a state\n",
        "def available_actions(state):  \n",
        "    current_state_row = R[state,]\n",
        "    av_act = np.where(current_state_row >= 0)[1]\n",
        "    return av_act\n",
        "\n",
        "available_act = available_actions(initial_state)"
      ],
      "execution_count": null,
      "outputs": []
    },
    {
      "cell_type": "code",
      "metadata": {
        "id": "muJOfQ70u-8m"
      },
      "source": [
        "#function to select the next action out of available actions \n",
        "def sample_next_action(available_actions_range):\n",
        "    next_action = int(np.random.choice(available_act,1))\n",
        "    return next_action\n",
        "\n",
        "action = sample_next_action(available_act)"
      ],
      "execution_count": null,
      "outputs": []
    },
    {
      "cell_type": "code",
      "metadata": {
        "id": "chnOdXHxonW-",
        "colab": {
          "base_uri": "https://localhost:8080/"
        },
        "outputId": "5cb94b8c-0252-49b4-b253-96a51f847a84"
      },
      "source": [
        "# function to update the q table with the reward value\n",
        "def update(current_state, action, gamma): \n",
        "\n",
        "  max_index = np.where(Q[action,] == np.max(Q[action,]))[1]\n",
        "\n",
        "  if max_index.shape[0] > 1:\n",
        "      max_index = int(np.random.choice(max_index, size = 1))\n",
        "  else:\n",
        "      max_index = int(max_index)\n",
        "  max_value = Q[action, max_index]       \n",
        "\n",
        "  Q[current_state, action] = R[current_state, action] + gamma * max_value\n",
        "\n",
        "  if (np.max(Q) > 0):\n",
        "    return(np.sum(Q/np.max(Q)*100))\n",
        "  else:\n",
        "    return (0)\n",
        "\n",
        "update(initial_state, action, gamma)"
      ],
      "execution_count": null,
      "outputs": [
        {
          "output_type": "execute_result",
          "data": {
            "text/plain": [
              "0"
            ]
          },
          "metadata": {},
          "execution_count": 102
        }
      ]
    },
    {
      "cell_type": "markdown",
      "metadata": {
        "id": "9PgPjcEZvgic"
      },
      "source": [
        "**Training**"
      ]
    },
    {
      "cell_type": "code",
      "metadata": {
        "id": "7q9KhR9doquJ",
        "colab": {
          "base_uri": "https://localhost:8080/"
        },
        "outputId": "90391cbb-c726-415f-caa3-48d16e61139d"
      },
      "source": [
        "scores = []\n",
        "for i in range(700):\n",
        "    current_state = np.random.randint(0, int(Q.shape[0])) \n",
        "    available_act = available_actions(current_state)\n",
        "    action = sample_next_action(available_act) \n",
        "    score = update(current_state,action,gamma) \n",
        "    scores.append(score)\n",
        "\n",
        "print(\"Trained Q matrix:\")\n",
        "print(Q/np.max(Q)*100)"
      ],
      "execution_count": null,
      "outputs": [
        {
          "output_type": "stream",
          "text": [
            "Trained Q matrix:\n",
            "[[  0.         64.          0.          0.          0.          0.\n",
            "    0.          0.       ]\n",
            " [ 51.2         0.         80.          0.          0.         51.2\n",
            "    0.          0.       ]\n",
            " [  0.         64.          0.         64.          0.          0.\n",
            "    0.        100.       ]\n",
            " [  0.          0.         80.          0.          0.          0.\n",
            "    0.          0.       ]\n",
            " [  0.          0.          0.          0.          0.         51.2\n",
            "    0.          0.       ]\n",
            " [  0.         64.          0.          0.         40.96        0.\n",
            "   40.96        0.       ]\n",
            " [  0.          0.          0.          0.          0.         51.2\n",
            "    0.          0.       ]\n",
            " [  0.          0.         80.          0.          0.          0.\n",
            "    0.         99.9986388]]\n"
          ],
          "name": "stdout"
        }
      ]
    },
    {
      "cell_type": "code",
      "metadata": {
        "id": "Z0rowee9DG-b",
        "colab": {
          "base_uri": "https://localhost:8080/"
        },
        "outputId": "a64e2a3e-95fc-4953-aa60-7b759eee96a2"
      },
      "source": [
        "plt.plot(scores)\n",
        "plt.show()"
      ],
      "execution_count": null,
      "outputs": [
        {
          "output_type": "display_data",
          "data": {
            "image/png": "[encoded data removed]",
            "text/plain": [
              "<Figure size 432x288 with 1 Axes>"
            ]
          },
          "metadata": {
            "needs_background": "light"
          }
        }
      ]
    },
    {
      "cell_type": "markdown",
      "metadata": {
        "id": "GiRnovuH_yCO"
      },
      "source": [
        "**Testing** "
      ]
    },
    {
      "cell_type": "code",
      "metadata": {
        "id": "edGsm7cCvrdd",
        "colab": {
          "base_uri": "https://localhost:8080/"
        },
        "outputId": "a90f8f26-4418-450a-8ea9-24d6c7fb6f59"
      },
      "source": [
        "current_state = 0\n",
        "steps = [current_state]\n",
        "\n",
        "while current_state != 7:\n",
        "\n",
        "    next_step_index = np.where(Q[current_state,] == np.max(Q[current_state,]))[1]\n",
        "\n",
        "    if next_step_index.shape[0] > 1:\n",
        "        next_step_index = int(np.random.choice(next_step_index, size = 1))\n",
        "    else:\n",
        "        next_step_index = int(next_step_index)\n",
        "\n",
        "    steps.append(next_step_index)\n",
        "    current_state = next_step_index\n",
        "\n",
        "print(\"Most efficient path:\")\n",
        "print(steps)"
      ],
      "execution_count": null,
      "outputs": [
        {
          "output_type": "stream",
          "text": [
            "Most efficient path:\n",
            "[0, 1, 2, 7]\n"
          ],
          "name": "stdout"
        }
      ]
    }
  ]
}