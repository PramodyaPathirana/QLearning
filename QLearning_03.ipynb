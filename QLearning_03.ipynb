{
  "nbformat": 4,
  "nbformat_minor": 0,
  "metadata": {
    "colab": {
      "name": "Part03_18020542.ipynb",
      "provenance": []
    },
    "kernelspec": {
      "display_name": "Python 3",
      "name": "python3"
    },
    "language_info": {
      "name": "python"
    }
  },
  "cells": [
    {
      "cell_type": "markdown",
      "metadata": {
        "id": "9IpJuCFXzWbp"
      },
      "source": [
        "**Q** **Learning** **Exercise**"
      ]
    },
    {
      "cell_type": "code",
      "metadata": {
        "id": "LzhycehXzUre"
      },
      "source": [
        "import numpy as np\n",
        "import pylab as plt\n",
        "import networkx as nx\n",
        "\n",
        "# adding the possible coordinates\n",
        "points = [(-1,-1), (-1,2), (-1,3), (0,0), (0,1), (0,2), (0,3), (1,1), (1,2), \n",
        "          (2,-1), (2,1), (2,2), (3,1), (3,2), (3,3)]\n",
        "\n",
        "#adding the list of edges\n",
        "edges = [(0, 1), (1, 2), (2, 6), (1, 5), (3, 4), (4,5), \n",
        "         (5,6), (0,9), (4,7), (5,8), (7,8), (9,10), (10,11), \n",
        "         (7,10), (8,11), (10,12), (11,13), (13,14)]  # (v1,v2)\n",
        "\n",
        "#defining action codes: 0 = up, 1 = right, 2 = down, 3 = left\n",
        "actions = ['up', 'right', 'down', 'left']"
      ],
      "execution_count": null,
      "outputs": []
    },
    {
      "cell_type": "code",
      "metadata": {
        "colab": {
          "base_uri": "https://localhost:8080/",
          "height": 265
        },
        "id": "o_ITVAXK0ek0",
        "outputId": "44244f08-6ad2-4e27-e35f-8daed19c0c87"
      },
      "source": [
        "#plotting the maze\n",
        "def add_edge_to_graph(G, e1, e2):\n",
        "    G.add_edge(e1, e2)\n",
        "\n",
        "G = nx.Graph()\n",
        "\n",
        "for i in range(len(edges)):\n",
        "    add_edge_to_graph(G, points[edges[i][0]], points[edges[i][1]])\n",
        "\n",
        "# pos = nx.spring_layout(G)\n",
        "pos = {point: point for point in points}\n",
        "\n",
        "# add axis\n",
        "fig, ax = plt.subplots()\n",
        "nx.draw(G, pos=pos, ax=ax)\n",
        "# draw nodes and edges\n",
        "nx.draw(G, pos=pos, node_color='darkorange', node_size=1500, ax=ax)  \n",
        "nx.draw_networkx_labels(G, pos=pos)  # draw node labels/names\n",
        "\n",
        "plt.axis(\"on\")\n",
        "ax.set_xlim(-1.5, 3.5)\n",
        "ax.set_ylim(-1.5,3.5)\n",
        "ax.tick_params(left=True, bottom=True, labelleft=True, labelbottom=True)\n",
        "plt.show()"
      ],
      "execution_count": null,
      "outputs": [
        {
          "output_type": "display_data",
          "data": {
            "image/png": "[encoded data removed]",
            "text/plain": [
              "<Figure size 432x288 with 1 Axes>"
            ]
          },
          "metadata": {}
        }
      ]
    },
    {
      "cell_type": "markdown",
      "metadata": {
        "id": "OG9rT4xpD7jR"
      },
      "source": [
        "**Setting the Coordinate Points**"
      ]
    },
    {
      "cell_type": "code",
      "metadata": {
        "id": "NOQVPBvf0rUs"
      },
      "source": [
        "#Dimensions of the coordinates matrix \n",
        "rows = 5\n",
        "columns = 5\n",
        "\n",
        "coordinate_rows = {} \n",
        "\n",
        "#defining possible coordinates in each row \n",
        "coordinate_rows[0] = [0,3,4]\n",
        "coordinate_rows[1] = [1,2,3,4]\n",
        "coordinate_rows[2] = [2,3]\n",
        "coordinate_rows[3] = [0,2,3]\n",
        "coordinate_rows[4] = [4]"
      ],
      "execution_count": null,
      "outputs": []
    },
    {
      "cell_type": "markdown",
      "metadata": {
        "id": "YOE9tK891Cjh"
      },
      "source": [
        "**R** **Table** "
      ]
    },
    {
      "cell_type": "code",
      "metadata": {
        "colab": {
          "base_uri": "https://localhost:8080/"
        },
        "id": "kTKbz5W-0_1q",
        "outputId": "2b86186e-ff81-4f93-ce08-fd5777f7f317"
      },
      "source": [
        "R = np.full((rows, columns), -100.)\n",
        "R[4,2] = 100 #defining reward of 100 for the goal\n",
        "\n",
        "#set the rewards for all aisle locations\n",
        "for row_index in range(0, 5):\n",
        "  for column_index in coordinate_rows[row_index]:\n",
        "    R[row_index, column_index] = -1.\n",
        "\n",
        "print(\"Reward Table: \")\n",
        "R"
      ],
      "execution_count": null,
      "outputs": [
        {
          "output_type": "stream",
          "text": [
            "Reward Table: \n"
          ],
          "name": "stdout"
        },
        {
          "output_type": "execute_result",
          "data": {
            "text/plain": [
              "array([[  -1., -100., -100.,   -1.,   -1.],\n",
              "       [-100.,   -1.,   -1.,   -1.,   -1.],\n",
              "       [-100., -100.,   -1.,   -1., -100.],\n",
              "       [  -1., -100.,   -1.,   -1., -100.],\n",
              "       [-100., -100.,  100., -100.,   -1.]])"
            ]
          },
          "metadata": {},
          "execution_count": 6
        }
      ]
    },
    {
      "cell_type": "markdown",
      "metadata": {
        "id": "h0X9s_zj1R6i"
      },
      "source": [
        "**Q** **Table** "
      ]
    },
    {
      "cell_type": "code",
      "metadata": {
        "id": "T0p94YGw1aLq"
      },
      "source": [
        "#initializing Q table \n",
        "Q = np.zeros((rows, columns, 4))"
      ],
      "execution_count": null,
      "outputs": []
    },
    {
      "cell_type": "code",
      "metadata": {
        "id": "R8Ck6D151q9a"
      },
      "source": [
        "#function to determine if the specified coordinate exists\n",
        "def is_terminal_state(current_row_index, current_column_index):\n",
        "  if R[current_row_index, current_column_index] == -1.:\n",
        "    return False\n",
        "  else:\n",
        "    return True"
      ],
      "execution_count": null,
      "outputs": []
    },
    {
      "cell_type": "code",
      "metadata": {
        "id": "xsqXyeIl1w0N"
      },
      "source": [
        "#function to select a random starting location\n",
        "def get_starting_location():\n",
        "  current_row_index = np.random.randint(rows)\n",
        "  current_column_index = np.random.randint(columns)\n",
        "\n",
        "  return current_row_index, current_column_index"
      ],
      "execution_count": null,
      "outputs": []
    },
    {
      "cell_type": "code",
      "metadata": {
        "id": "sSbS-ERg9aKU"
      },
      "source": [
        "#function to choose which action to take next\n",
        "def get_next_action(current_row_index, current_column_index):\n",
        "  return np.argmax(Q[current_row_index, current_column_index])"
      ],
      "execution_count": null,
      "outputs": []
    },
    {
      "cell_type": "code",
      "metadata": {
        "id": "DWcVIqai-WoU"
      },
      "source": [
        "#function to get the next location based on the chosen action\n",
        "def get_next_location(current_row_index, current_column_index, action_index):\n",
        "  new_row_index = current_row_index\n",
        "  new_column_index = current_column_index\n",
        "  if actions[action_index] == 'up' and current_row_index > 0:\n",
        "    new_row_index -= 1\n",
        "  elif actions[action_index] == 'right' and current_column_index < columns - 1:\n",
        "    new_column_index += 1\n",
        "  elif actions[action_index] == 'down' and current_row_index < rows - 1:\n",
        "    new_row_index += 1\n",
        "  elif actions[action_index] == 'left' and current_column_index > 0:\n",
        "    new_column_index -= 1\n",
        "  return new_row_index, new_column_index"
      ],
      "execution_count": null,
      "outputs": []
    },
    {
      "cell_type": "markdown",
      "metadata": {
        "id": "Z3cXinXwJ6T4"
      },
      "source": [
        "**Training** "
      ]
    },
    {
      "cell_type": "code",
      "metadata": {
        "id": "-vrozIOIJuOF",
        "colab": {
          "base_uri": "https://localhost:8080/"
        },
        "outputId": "f5f24958-34e1-4bee-f17c-0c1147edd280"
      },
      "source": [
        "learning_rate = 0.9 \n",
        "\n",
        "#run through 1000 training episodes\n",
        "for episode in range(1000):\n",
        "\n",
        "  #get the starting location for this episode randomly\n",
        "  row_index, column_index = get_starting_location()\n",
        "\n",
        "  while not is_terminal_state(row_index, column_index):\n",
        "\n",
        "    #select the next action\n",
        "    action_index = get_next_action(row_index, column_index)\n",
        "\n",
        "    #do the selected action and move to the new location\n",
        "    old_row_index, old_column_index = row_index, column_index \n",
        "    row_index, column_index = get_next_location(row_index, column_index, action_index)\n",
        "\n",
        "    #take the reward of the new state\n",
        "    reward = R[row_index, column_index]\n",
        "    old_q_value = Q[old_row_index, old_column_index, action_index]\n",
        "\n",
        "    difference = reward + (np.max(Q[row_index, column_index])) - old_q_value\n",
        "\n",
        "    #update the Q-value \n",
        "    new_q_value = old_q_value + (learning_rate * difference)\n",
        "    Q[old_row_index, old_column_index, action_index] = new_q_value\n",
        "\n",
        "print(\"Final Q Table:\")\n",
        "Q"
      ],
      "execution_count": null,
      "outputs": [
        {
          "output_type": "stream",
          "text": [
            "Final Q Table:\n"
          ],
          "name": "stdout"
        },
        {
          "output_type": "execute_result",
          "data": {
            "text/plain": [
              "array([[[-100.8    , -100.     , -100.     , -100.8    ],\n",
              "        [   0.     ,    0.     ,    0.     ,    0.     ],\n",
              "        [   0.     ,    0.     ,    0.     ,    0.     ],\n",
              "        [  -4.5    ,   -5.31   ,   96.     ,  -90.     ],\n",
              "        [  -5.4    ,   -5.4    ,   -4.68639,   95.     ]],\n",
              "\n",
              "       [[   0.     ,    0.     ,    0.     ,    0.     ],\n",
              "        [ -90.     ,   97.     ,  -90.     ,  -90.     ],\n",
              "        [ -90.     ,   -2.853  ,   98.     ,   -2.6118 ],\n",
              "        [  -3.68829,   -3.51   ,   -2.79   ,   97.     ],\n",
              "        [  -4.5    ,   -4.5    ,  -90.     ,   96.     ]],\n",
              "\n",
              "       [[   0.     ,    0.     ,    0.     ,    0.     ],\n",
              "        [   0.     ,    0.     ,    0.     ,    0.     ],\n",
              "        [  -1.8    ,   -2.61   ,   99.     ,  -90.     ],\n",
              "        [  -1.971  ,  -90.     ,   -1.89   ,   98.     ],\n",
              "        [   0.     ,    0.     ,    0.     ,    0.     ]],\n",
              "\n",
              "       [[-100.     , -100.     , -100.     , -100.8    ],\n",
              "        [   0.     ,    0.     ,    0.     ,    0.     ],\n",
              "        [  -0.9    ,   -0.9    ,  100.     ,    0.     ],\n",
              "        [  -1.8    ,  -90.     ,  -90.     ,   99.     ],\n",
              "        [   0.     ,    0.     ,    0.     ,    0.     ]],\n",
              "\n",
              "       [[   0.     ,    0.     ,    0.     ,    0.     ],\n",
              "        [   0.     ,    0.     ,    0.     ,    0.     ],\n",
              "        [   0.     ,    0.     ,    0.     ,    0.     ],\n",
              "        [   0.     ,    0.     ,    0.     ,    0.     ],\n",
              "        [-100.     , -100.8    , -100.8    , -100.     ]]])"
            ]
          },
          "metadata": {},
          "execution_count": 12
        }
      ]
    },
    {
      "cell_type": "markdown",
      "metadata": {
        "id": "O3zps2Ka_nMg"
      },
      "source": [
        "**Testing**"
      ]
    },
    {
      "cell_type": "code",
      "metadata": {
        "id": "xwn5GmInO7e-"
      },
      "source": [
        "#function to get the shortest path between two locations\n",
        "def get_shortest_path(start_row_index, start_column_index):\n",
        "  start_row_index=start_row_index+1\n",
        "  start_column_index=start_column_index+1\n",
        "  #point doesn't exist\n",
        "  if is_terminal_state(start_row_index, start_column_index):\n",
        "    return []\n",
        "  #point exists\n",
        "  else: \n",
        "    current_row_index, current_column_index = start_row_index, start_column_index\n",
        "    shortest_path = []\n",
        "    action=[]\n",
        "    shortest_path.append([current_row_index, current_column_index])\n",
        "\n",
        "    #moving along the coordinate plane until the goal is reached\n",
        "    while not is_terminal_state(current_row_index, current_column_index):\n",
        "      #get the best action to take\n",
        "      action_index = get_next_action(current_row_index, current_column_index)\n",
        "\n",
        "      #move to the next selected location\n",
        "      current_row_index, current_column_index = get_next_location(current_row_index, current_column_index, action_index)\n",
        "      shortest_path.append([current_row_index, current_column_index])\n",
        "\n",
        "      if action_index==0:\n",
        "        action.append('up')\n",
        "      elif action_index==1:\n",
        "        action.append('left')\n",
        "      elif action_index==2:\n",
        "        action.append('right')\n",
        "      elif action_index==3:\n",
        "        action.append('down')\n",
        "\n",
        "    #mapping back to -1 values\n",
        "    temp=[]\n",
        "    for i in shortest_path:\n",
        "      temp.append([i[0]-1,i[1]-1])\n",
        "    print(action)\n",
        "    return temp"
      ],
      "execution_count": null,
      "outputs": []
    },
    {
      "cell_type": "code",
      "metadata": {
        "id": "zC4evewAyFYI",
        "colab": {
          "base_uri": "https://localhost:8080/"
        },
        "outputId": "4efecec5-5857-466d-9a64-158ae9616f08"
      },
      "source": [
        "print(get_shortest_path(-1,3)) "
      ],
      "execution_count": null,
      "outputs": [
        {
          "output_type": "stream",
          "text": [
            "['down', 'right', 'down', 'right', 'right', 'right']\n",
            "[[-1, 3], [-1, 2], [0, 2], [0, 1], [1, 1], [2, 1], [3, 1]]\n"
          ],
          "name": "stdout"
        }
      ]
    },
    {
      "cell_type": "code",
      "metadata": {
        "id": "0PAj62LTyben",
        "colab": {
          "base_uri": "https://localhost:8080/"
        },
        "outputId": "12854197-aa00-4d21-8da4-f0545fcca186"
      },
      "source": [
        "print(get_shortest_path(-1,2))"
      ],
      "execution_count": null,
      "outputs": [
        {
          "output_type": "stream",
          "text": [
            "['right', 'down', 'right', 'right', 'right']\n",
            "[[-1, 2], [0, 2], [0, 1], [1, 1], [2, 1], [3, 1]]\n"
          ],
          "name": "stdout"
        }
      ]
    },
    {
      "cell_type": "code",
      "metadata": {
        "id": "TnumZsk6Qnwx",
        "colab": {
          "base_uri": "https://localhost:8080/"
        },
        "outputId": "838f2f86-3512-486c-b79d-c645c07a3299"
      },
      "source": [
        "print(get_shortest_path(0,3))"
      ],
      "execution_count": null,
      "outputs": [
        {
          "output_type": "stream",
          "text": [
            "['down', 'down', 'right', 'right', 'right']\n",
            "[[0, 3], [0, 2], [0, 1], [1, 1], [2, 1], [3, 1]]\n"
          ],
          "name": "stdout"
        }
      ]
    },
    {
      "cell_type": "code",
      "metadata": {
        "colab": {
          "base_uri": "https://localhost:8080/"
        },
        "id": "VmyHs7GEMT2-",
        "outputId": "0f0168f2-886c-4f6e-a54c-34cefbea2162"
      },
      "source": [
        "print(get_shortest_path(0,0))"
      ],
      "execution_count": null,
      "outputs": [
        {
          "output_type": "stream",
          "text": [
            "['left', 'right', 'right', 'right']\n",
            "[[0, 0], [0, 1], [1, 1], [2, 1], [3, 1]]\n"
          ],
          "name": "stdout"
        }
      ]
    }
  ]
}