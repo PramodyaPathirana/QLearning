{
  "nbformat": 4,
  "nbformat_minor": 0,
  "metadata": {
    "colab": {
      "name": "Part02_18020542.ipynb",
      "provenance": []
    },
    "kernelspec": {
      "name": "python3",
      "display_name": "Python 3"
    },
    "language_info": {
      "name": "python"
    },
    "accelerator": "GPU"
  },
  "cells": [
    {
      "cell_type": "markdown",
      "metadata": {
        "id": "n77BLXlYHeM9"
      },
      "source": [
        "**Q** **Learning** **Example**"
      ]
    },
    {
      "cell_type": "code",
      "metadata": {
        "id": "8QPbt4vfHRYS",
        "colab": {
          "base_uri": "https://localhost:8080/",
          "height": 248
        },
        "outputId": "5d549582-990d-4bad-d159-c4749dfe930a"
      },
      "source": [
        "import numpy as np\n",
        "import pylab as plt\n",
        "import networkx as nx\n",
        "\n",
        "# adding the possible points/actions\n",
        "points_list = [(1,2), (1,4), (2,3), (2,4), (2,5), (3,7), (3,6), (4,7), (5,6)]\n",
        "\n",
        "# defining the goal\n",
        "goal = 7\n",
        "\n",
        "# plotting the corresponding graph denoting the links between nodes\n",
        "G=nx.Graph()\n",
        "G.add_edges_from(points_list)\n",
        "pos = nx.spring_layout(G)\n",
        "nx.draw_networkx_nodes(G,pos, node_color='darkorange', node_size=1000,)\n",
        "nx.draw_networkx_edges(G,pos)\n",
        "nx.draw_networkx_labels(G,pos)\n",
        "plt.show()"
      ],
      "execution_count": null,
      "outputs": [
        {
          "output_type": "display_data",
          "data": {
            "image/png": "[encoded data removed]",
            "text/plain": [
              "<Figure size 432x288 with 1 Axes>"
            ]
          },
          "metadata": {}
        }
      ]
    },
    {
      "cell_type": "markdown",
      "metadata": {
        "id": "FTiGP2DR_GbI"
      },
      "source": [
        "**R** **Table**"
      ]
    },
    {
      "cell_type": "code",
      "metadata": {
        "id": "OGO-hB65LSqJ"
      },
      "source": [
        "# defining the size of the matrix for reward table \n",
        "MATRIX_SIZE = 7\n",
        "\n",
        "# creating the matrix for reward table \n",
        "R = np.matrix(np.ones(shape=(MATRIX_SIZE, MATRIX_SIZE)))\n",
        "\n",
        "#initializing with -1 values\n",
        "R *= -1 "
      ],
      "execution_count": null,
      "outputs": []
    },
    {
      "cell_type": "code",
      "metadata": {
        "id": "Yl6f8-ErMHPT",
        "colab": {
          "base_uri": "https://localhost:8080/"
        },
        "outputId": "b0711040-8e43-4db2-ad43-a9f53402fe25"
      },
      "source": [
        "# assiging reward values to the R matrix \n",
        "\n",
        "for point in points_list:\n",
        "    if point[1] == goal: \n",
        "        R[(point[0]-1), (point[1]-1)] = 100\n",
        "    else:\n",
        "        R[(point[0]-1), (point[1]-1)] = 0 \n",
        "\n",
        "    if point[0] == goal:\n",
        "        R[((point[0]-1), (point[1]-1))[::-1]] = 100\n",
        "    else:\n",
        "        R[((point[0]-1), (point[1]-1))[::-1]]= 0 \n",
        "\n",
        "R[goal-1,goal-1]= 100 \n",
        "print(\"Reward Table:\")\n",
        "R"
      ],
      "execution_count": null,
      "outputs": [
        {
          "output_type": "stream",
          "text": [
            "Reward Table:\n"
          ],
          "name": "stdout"
        },
        {
          "output_type": "execute_result",
          "data": {
            "text/plain": [
              "matrix([[ -1.,   0.,  -1.,   0.,  -1.,  -1.,  -1.],\n",
              "        [  0.,  -1.,   0.,   0.,   0.,  -1.,  -1.],\n",
              "        [ -1.,   0.,  -1.,  -1.,  -1.,   0., 100.],\n",
              "        [  0.,   0.,  -1.,  -1.,  -1.,  -1., 100.],\n",
              "        [ -1.,   0.,  -1.,  -1.,  -1.,   0.,  -1.],\n",
              "        [ -1.,  -1.,   0.,  -1.,   0.,  -1.,  -1.],\n",
              "        [ -1.,  -1.,   0.,   0.,  -1.,  -1., 100.]])"
            ]
          },
          "metadata": {},
          "execution_count": 69
        }
      ]
    },
    {
      "cell_type": "markdown",
      "metadata": {
        "id": "OJDlQZ4w_egW"
      },
      "source": [
        "**Q** **Table**"
      ]
    },
    {
      "cell_type": "code",
      "metadata": {
        "id": "Hg2DABcaRdYI"
      },
      "source": [
        "#initializing the Q table with zeros\n",
        "Q = np.matrix(np.zeros([MATRIX_SIZE,MATRIX_SIZE])) \n",
        "\n",
        "# setting the learning rate\n",
        "gamma = 0.7 \n",
        "\n",
        "initial_state = 1 "
      ],
      "execution_count": null,
      "outputs": []
    },
    {
      "cell_type": "code",
      "metadata": {
        "id": "NsDMJKAaRpf9"
      },
      "source": [
        "# function to select the set of avaialble actions for a state\n",
        "def available_actions(state):  \n",
        "    current_state_row = R[state,]\n",
        "    av_act = np.where(current_state_row >= 0)[1]\n",
        "    return av_act\n",
        "\n",
        "available_act = available_actions(initial_state) "
      ],
      "execution_count": null,
      "outputs": []
    },
    {
      "cell_type": "code",
      "metadata": {
        "id": "yLJIc4h7SHUF"
      },
      "source": [
        "# funtion to a select particular action randomly out of available actions\n",
        "def sample_next_action(available_actions_range):\n",
        "    next_action = int(np.random.choice(available_act,1)) \n",
        "    return next_action\n",
        "\n",
        "action = sample_next_action(available_act)"
      ],
      "execution_count": null,
      "outputs": []
    },
    {
      "cell_type": "code",
      "metadata": {
        "id": "eNHYLj14MS8N",
        "colab": {
          "base_uri": "https://localhost:8080/"
        },
        "outputId": "f11040dc-b751-4d19-a4de-c160d074ba43"
      },
      "source": [
        "# function to update the Q table with the reward value\n",
        "def update(current_state, action, gamma): \n",
        "\n",
        "  max_index = np.where(Q[action,] == np.max(Q[action,]))[1]  \n",
        "\n",
        "  if max_index.shape[0] > 1:\n",
        "      max_index = int(np.random.choice(max_index, size = 1))\n",
        "  else:\n",
        "      max_index = int(max_index)\n",
        "  max_value = Q[action, max_index]       \n",
        "\n",
        "  Q[current_state, action] = R[current_state, action] + gamma * max_value\n",
        "\n",
        "  if (np.max(Q) > 0):\n",
        "    return(np.sum(Q/np.max(Q)*100))\n",
        "  else:\n",
        "    return (0)\n",
        "\n",
        "update(initial_state, action, gamma)"
      ],
      "execution_count": null,
      "outputs": [
        {
          "output_type": "execute_result",
          "data": {
            "text/plain": [
              "0"
            ]
          },
          "metadata": {},
          "execution_count": 73
        }
      ]
    },
    {
      "cell_type": "markdown",
      "metadata": {
        "id": "yQWUmThGOjPW"
      },
      "source": [
        "**Training**"
      ]
    },
    {
      "cell_type": "code",
      "metadata": {
        "id": "6WsDZTwKOif_",
        "colab": {
          "base_uri": "https://localhost:8080/"
        },
        "outputId": "cd375fa4-3c71-4bff-b647-7d2959a91e33"
      },
      "source": [
        "scores = []\n",
        "for i in range(1000):\n",
        "    current_state = np.random.randint(0, int(Q.shape[0]))\n",
        "    available_act = available_actions(current_state) \n",
        "    action = sample_next_action(available_act) \n",
        "    score = update(current_state,action,gamma) \n",
        "    scores.append(score)\n",
        "\n",
        "normalized_Q = Q/np.max(Q)*100\n",
        "\n",
        "print(\"Final Q matrix:\")\n",
        "print(Q/np.max(Q)*100) "
      ],
      "execution_count": null,
      "outputs": [
        {
          "output_type": "stream",
          "text": [
            "Final Q matrix:\n",
            "[[  0.          49.           0.          70.           0.\n",
            "    0.           0.        ]\n",
            " [ 49.           0.          70.          70.          34.3\n",
            "    0.           0.        ]\n",
            " [  0.          49.           0.           0.           0.\n",
            "   49.         100.        ]\n",
            " [ 48.9999911   49.           0.           0.           0.\n",
            "    0.         100.        ]\n",
            " [  0.          49.           0.           0.           0.\n",
            "   49.           0.        ]\n",
            " [  0.           0.          70.           0.          34.3\n",
            "    0.           0.        ]\n",
            " [  0.           0.          70.          69.99998728   0.\n",
            "    0.          99.99999843]]\n"
          ],
          "name": "stdout"
        }
      ]
    },
    {
      "cell_type": "code",
      "metadata": {
        "colab": {
          "base_uri": "https://localhost:8080/",
          "height": 265
        },
        "id": "MxGhzr9Ajuu6",
        "outputId": "7cc85929-fc3a-4036-9374-fd7449fd440c"
      },
      "source": [
        "plt.plot(scores)\n",
        "plt.show()"
      ],
      "execution_count": null,
      "outputs": [
        {
          "output_type": "display_data",
          "data": {
            "image/png": "[encoded data removed]",
            "text/plain": [
              "<Figure size 432x288 with 1 Axes>"
            ]
          },
          "metadata": {
            "needs_background": "light"
          }
        }
      ]
    },
    {
      "cell_type": "markdown",
      "metadata": {
        "id": "RZnsn1JbO_Tn"
      },
      "source": [
        "**Testing**"
      ]
    },
    {
      "cell_type": "code",
      "metadata": {
        "id": "kwqlu9GbPBHw",
        "colab": {
          "base_uri": "https://localhost:8080/"
        },
        "outputId": "aba6f184-3378-461a-a26e-2c8de27f7f84"
      },
      "source": [
        "current_state = 1\n",
        "steps = [current_state]\n",
        "\n",
        "while current_state != goal:\n",
        "\n",
        "    next_step_index = np.where(normalized_Q[(current_state-1),] == \n",
        "                               np.max(normalized_Q[(current_state-1),]))[1]\n",
        "\n",
        "    if next_step_index.shape[0] > 1:\n",
        "        next_step_index = int(np.random.choice(next_step_index, size = 1))\n",
        "    else:\n",
        "        next_step_index = int(next_step_index)\n",
        "\n",
        "    steps.append(next_step_index+1)\n",
        "    current_state = next_step_index+1\n",
        "\n",
        "print(\"Most efficient path:\")\n",
        "print(steps)"
      ],
      "execution_count": null,
      "outputs": [
        {
          "output_type": "stream",
          "text": [
            "Most efficient path:\n",
            "[1, 4, 7]\n"
          ],
          "name": "stdout"
        }
      ]
    },
    {
      "cell_type": "code",
      "metadata": {
        "colab": {
          "base_uri": "https://localhost:8080/"
        },
        "id": "sJ6U2c6sAdpx",
        "outputId": "959499d6-6cca-4fc8-ee76-bfc73d3db627"
      },
      "source": [
        "current_state = 5\n",
        "steps = [current_state]\n",
        "\n",
        "while current_state != goal:\n",
        "\n",
        "    next_step_index = np.where(normalized_Q[(current_state-1),] == \n",
        "                               np.max(normalized_Q[(current_state-1),]))[1]\n",
        "\n",
        "    if next_step_index.shape[0] > 1:\n",
        "        next_step_index = int(np.random.choice(next_step_index, size = 1))\n",
        "    else:\n",
        "        next_step_index = int(next_step_index)\n",
        "\n",
        "    steps.append(next_step_index+1)\n",
        "    current_state = next_step_index+1\n",
        "\n",
        "print(\"Most efficient path:\")\n",
        "print(steps)"
      ],
      "execution_count": null,
      "outputs": [
        {
          "output_type": "stream",
          "text": [
            "Most efficient path:\n",
            "[5, 2, 3, 7]\n"
          ],
          "name": "stdout"
        }
      ]
    }
  ]
}